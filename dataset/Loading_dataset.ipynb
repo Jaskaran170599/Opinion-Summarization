{
 "cells": [
  {
   "cell_type": "code",
   "execution_count": 3,
   "metadata": {},
   "outputs": [],
   "source": [
    "import pandas as pd"
   ]
  },
  {
   "cell_type": "code",
   "execution_count": 2,
   "metadata": {},
   "outputs": [],
   "source": [
    "data = pd.read_json('AMAZON_FASHION.json', lines=True)"
   ]
  },
  {
   "cell_type": "code",
   "execution_count": 3,
   "metadata": {},
   "outputs": [
    {
     "output_type": "execute_result",
     "data": {
      "text/plain": "pandas.core.frame.DataFrame"
     },
     "metadata": {},
     "execution_count": 3
    }
   ],
   "source": [
    "type(data)"
   ]
  },
  {
   "cell_type": "code",
   "execution_count": 4,
   "metadata": {},
   "outputs": [
    {
     "output_type": "execute_result",
     "data": {
      "text/plain": "   overall  verified   reviewTime      reviewerID        asin  reviewerName  \\\n0        5      True  10 20, 2014  A1D4G1SNUZWQOT  7106116521         Tracy   \n1        2      True  09 28, 2014  A3DDWDH9PX2YX2  7106116521     Sonja Lau   \n2        4     False  08 25, 2014  A2MWC41EW7XL15  7106116521      Kathleen   \n3        2      True  08 24, 2014  A2UH2QQ275NV45  7106116521   Jodi Stoner   \n4        3     False  07 27, 2014   A89F3LQADZBS5  7106116521  Alexander D.   \n\n                                          reviewText  \\\n0                             Exactly what I needed.   \n1  I agree with the other review, the opening is ...   \n2  Love these... I am going to order another pack...   \n3                                too tiny an opening   \n4                                               Okay   \n\n                                             summary  unixReviewTime  vote  \\\n0                             perfect replacements!!      1413763200   NaN   \n1  I agree with the other review, the opening is ...      1411862400   3.0   \n2                                My New 'Friends' !!      1408924800   NaN   \n3                                          Two Stars      1408838400   NaN   \n4                                        Three Stars      1406419200   NaN   \n\n  style image  \n0   NaN   NaN  \n1   NaN   NaN  \n2   NaN   NaN  \n3   NaN   NaN  \n4   NaN   NaN  ",
      "text/html": "<div>\n<style scoped>\n    .dataframe tbody tr th:only-of-type {\n        vertical-align: middle;\n    }\n\n    .dataframe tbody tr th {\n        vertical-align: top;\n    }\n\n    .dataframe thead th {\n        text-align: right;\n    }\n</style>\n<table border=\"1\" class=\"dataframe\">\n  <thead>\n    <tr style=\"text-align: right;\">\n      <th></th>\n      <th>overall</th>\n      <th>verified</th>\n      <th>reviewTime</th>\n      <th>reviewerID</th>\n      <th>asin</th>\n      <th>reviewerName</th>\n      <th>reviewText</th>\n      <th>summary</th>\n      <th>unixReviewTime</th>\n      <th>vote</th>\n      <th>style</th>\n      <th>image</th>\n    </tr>\n  </thead>\n  <tbody>\n    <tr>\n      <th>0</th>\n      <td>5</td>\n      <td>True</td>\n      <td>10 20, 2014</td>\n      <td>A1D4G1SNUZWQOT</td>\n      <td>7106116521</td>\n      <td>Tracy</td>\n      <td>Exactly what I needed.</td>\n      <td>perfect replacements!!</td>\n      <td>1413763200</td>\n      <td>NaN</td>\n      <td>NaN</td>\n      <td>NaN</td>\n    </tr>\n    <tr>\n      <th>1</th>\n      <td>2</td>\n      <td>True</td>\n      <td>09 28, 2014</td>\n      <td>A3DDWDH9PX2YX2</td>\n      <td>7106116521</td>\n      <td>Sonja Lau</td>\n      <td>I agree with the other review, the opening is ...</td>\n      <td>I agree with the other review, the opening is ...</td>\n      <td>1411862400</td>\n      <td>3.0</td>\n      <td>NaN</td>\n      <td>NaN</td>\n    </tr>\n    <tr>\n      <th>2</th>\n      <td>4</td>\n      <td>False</td>\n      <td>08 25, 2014</td>\n      <td>A2MWC41EW7XL15</td>\n      <td>7106116521</td>\n      <td>Kathleen</td>\n      <td>Love these... I am going to order another pack...</td>\n      <td>My New 'Friends' !!</td>\n      <td>1408924800</td>\n      <td>NaN</td>\n      <td>NaN</td>\n      <td>NaN</td>\n    </tr>\n    <tr>\n      <th>3</th>\n      <td>2</td>\n      <td>True</td>\n      <td>08 24, 2014</td>\n      <td>A2UH2QQ275NV45</td>\n      <td>7106116521</td>\n      <td>Jodi Stoner</td>\n      <td>too tiny an opening</td>\n      <td>Two Stars</td>\n      <td>1408838400</td>\n      <td>NaN</td>\n      <td>NaN</td>\n      <td>NaN</td>\n    </tr>\n    <tr>\n      <th>4</th>\n      <td>3</td>\n      <td>False</td>\n      <td>07 27, 2014</td>\n      <td>A89F3LQADZBS5</td>\n      <td>7106116521</td>\n      <td>Alexander D.</td>\n      <td>Okay</td>\n      <td>Three Stars</td>\n      <td>1406419200</td>\n      <td>NaN</td>\n      <td>NaN</td>\n      <td>NaN</td>\n    </tr>\n  </tbody>\n</table>\n</div>"
     },
     "metadata": {},
     "execution_count": 4
    }
   ],
   "source": [
    "data.head()"
   ]
  },
  {
   "cell_type": "markdown",
   "metadata": {},
   "source": [
    "<img src='amazon_data_description.png'>"
   ]
  },
  {
   "cell_type": "code",
   "execution_count": 4,
   "metadata": {},
   "outputs": [],
   "source": [
    "data2 = pd.read_csv('yelp_reviews.csv')"
   ]
  },
  {
   "cell_type": "code",
   "execution_count": 6,
   "metadata": {},
   "outputs": [
    {
     "output_type": "execute_result",
     "data": {
      "text/plain": "'As someone who has worked with many museums, I was eager to visit this gallery on my most recent trip to Las Vegas. When I saw they would be showing infamous eggs of the House of Faberge from the Virginia Museum of Fine Arts (VMFA), I knew I had to go!\\n\\nTucked away near the gelateria and the garden, the Gallery is pretty much hidden from view. It\\'s what real estate agents would call \"cozy\" or \"charming\" - basically any euphemism for small.\\n\\nThat being said, you can still see wonderful art at a gallery of any size, so why the two *s you ask? Let me tell you:\\n\\n* pricing for this, while relatively inexpensive for a Las Vegas attraction, is completely over the top. For the space and the amount of art you can fit in there, it is a bit much.\\n* it\\'s not kid friendly at all. Seriously, don\\'t bring them.\\n* the security is not trained properly for the show. When the curating and design teams collaborate for exhibitions, there is a definite flow. That means visitors should view the art in a certain sequence, whether it be by historical period or cultural significance (this is how audio guides are usually developed). When I arrived in the gallery I could not tell where to start, and security was certainly not helpful. I was told to \"just look around\" and \"do whatever.\" \\n\\nAt such a *fine* institution, I find the lack of knowledge and respect for the art appalling.'"
     },
     "metadata": {},
     "execution_count": 6
    }
   ],
   "source": [
    "data2.iloc[0][\"text\"]"
   ]
  },
  {
   "cell_type": "code",
   "execution_count": 7,
   "metadata": {},
   "outputs": [
    {
     "output_type": "execute_result",
     "data": {
      "text/plain": "<bound method NDFrame.describe of                   review_id                 user_id             business_id  \\\n0    xQY8N_XvtGbearJ5X4QryQ  OwjRMXRC0KyPrIlcjaXeFQ  -MhfebM0QIsKt87iDN-FNw   \n1    UmFMZ8PyXZTY2QcwzsfQYA  nIJD_7ZXHq-FX8byPMOkMQ  lbrU8StCq3yDfr-QMnGrmQ   \n2    LG2ZaYiOgpr2DK_90pYjNw  V34qejxNsCbcgD8C0HVk-Q  HQl28KMwrEKHqhFrrDqVNQ   \n3    i6g_oA9Yf9Y31qt0wibXpw  ofKDkJKXSKZXu5xJNGiiBQ  5JxlZaqCnk1MnbgRirs40Q   \n4    6TdNDKywdbjoTkizeMce8A  UgMW8bLE0QMJDCkQ1Ax5Mg  IS4cv902ykd8wj1TR0N3-A   \n..                      ...                     ...                     ...   \n245  E4iNibcGYKCPDR4FnMSuFA  O8wTVW9EKK8olDUkhKqQ6g  p0iEUamJVp_QpaheE-Nz_g   \n246  ivyr86sIQcmCdROK_qGPmw  Cm2hoeA9O_8GkbwY0qwDaw  Sy75QB18Sv-xNp8FoA8KvQ   \n247  tIIdt06cSPmn7RVPPpAbIg  HmWd_szFZbzOJNbvrDI4DA  HmsCerK_rub0Ulo0aC0f9A   \n248  j7bTnG-aZAi9rdqf9cmmqw  bRN42wJnFMJzY4ZzKqqz1A  49sbCG7F2jvqJsfG6-N8Rw   \n249  xKeufb74Zn4lOG7jqZ9Hxg  XLMpKbIsNOH1DcQN4knRjQ  ICUCAzUZFiWkYs7iCtNCQg   \n\n     stars  useful  funny  cool  \\\n0      2.0       5      0     0   \n1      1.0       1      1     0   \n2      5.0       1      0     0   \n3      1.0       0      0     0   \n4      4.0       0      0     0   \n..     ...     ...    ...   ...   \n245    4.0       0      0     0   \n246    3.0       0      0     0   \n247    5.0       0      0     0   \n248    3.0       0      0     0   \n249    1.0       0      1     0   \n\n                                                  text                 date  \n0    As someone who has worked with many museums, I...  2015-04-15 05:21:16  \n1    I am actually horrified this place is still in...  2013-12-07 03:16:52  \n2    I love Deagan's. I do. I really do. The atmosp...  2015-12-05 03:18:11  \n3    Dismal, lukewarm, defrosted-tasting \"TexMex\" g...  2011-05-27 05:30:52  \n4    Oh happy day, finally have a Canes near my cas...  2017-01-14 21:56:57  \n..                                                 ...                  ...  \n245  South Point is a very nice hotel and everythin...  2012-01-03 19:38:16  \n246  Let me start by saying that we had a very fun ...  2014-04-01 01:58:32  \n247  I absolutely LOVE Hanabi! I've had excellent s...  2016-10-13 22:45:42  \n248  Good service. Food ok. All around this restaur...  2018-04-15 11:07:24  \n249  Horrible guest and hospitality. Wish I could g...  2015-11-18 20:06:35  \n\n[250 rows x 9 columns]>"
     },
     "metadata": {},
     "execution_count": 7
    }
   ],
   "source": [
    "data2.describe"
   ]
  },
  {
   "cell_type": "code",
   "execution_count": null,
   "metadata": {},
   "outputs": [],
   "source": []
  }
 ],
 "metadata": {
  "kernelspec": {
   "display_name": "Python 3",
   "language": "python",
   "name": "python3"
  },
  "language_info": {
   "codemirror_mode": {
    "name": "ipython",
    "version": 3
   },
   "file_extension": ".py",
   "mimetype": "text/x-python",
   "name": "python",
   "nbconvert_exporter": "python",
   "pygments_lexer": "ipython3",
   "version": "3.7.7-final"
  }
 },
 "nbformat": 4,
 "nbformat_minor": 4
}